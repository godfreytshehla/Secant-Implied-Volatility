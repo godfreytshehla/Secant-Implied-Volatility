{
 "cells": [
  {
   "cell_type": "markdown",
   "id": "a44529cb",
   "metadata": {},
   "source": [
    "## Implied Volatility in the Black-Scholes Model\n",
    "\n",
    "Despite its controversial assumptions, the Black-Scholes model is still widely used in financial markets. In this note, I will discuss **implied volatility**, which is the volatility computed such that the model (Black-Scholes model) price matches the observed market price.\n",
    "\n",
    "Let $P_m(\\sigma, \\cdot )$ be the price from the Black-Scholes model and $\\sigma$ be the volatility, and let $P_{\\text{mkt}}$ be the market price.\n",
    "\n",
    "If:\n",
    "$$\n",
    "P_m(\\sigma, \\cdot) = P_{\\text{mkt}},\n",
    "$$\n",
    "then the volatility $\\sigma$ that satisfies this equation is called the implied volatility.\n",
    "\n",
    "In this notebook, I will consider a European option to compute the implied volatility. Let $S$ be the current price of the stock, $K$ be the exercise price, $r$ be the risk free rate, and $T$ be the maturity of the option.\n",
    "\n",
    "The price of the European call at time zero is given by:\n",
    "\n",
    "$$P_m(\\sigma, S, K, r, T) = S\\mathcal{N}(d_1)-K e^{-rT} \\mathcal{N}(d_2),$$\n",
    "where $d_1 = \\frac{\\log(S/K)+(r+0.5 \\sigma^2)T}{\\sigma \\sqrt{T}}, d_2=d_1-\\sigma \\sqrt{T}.$\n",
    "\n",
    "If $P_m(\\sigma, \\cdot) = P_{\\text{mkt}}$, then we need to solve for $\\sigma$. We can do this using a root finding technique such as Secant method such that we set function $f$ to be:\n",
    "$$f(\\sigma) = S\\mathcal{N}(d_1)-K e^{-rT} \\mathcal{N}(d_2)-P_{\\text{mkt}}.$$\n",
    "Newton's method will require us to compute the first derivative $f$ but that's a tedious process, so we cheat this by approximating the first derivative using finite difference methods. Thus we employ Secan't method. Recall Newton's method:\n",
    "$$\\sigma_{n+1}=\\sigma_{n}-f(\\sigma_{n})/f'(\\sigma_n)$$.\n",
    "We approximate the $f'(\\sigma_n)$ by:\n",
    "$$ f'(\\sigma_n) = \\frac{f(\\sigma_n)-f(\\sigma_{n-1})}{\\sigma_n-\\sigma_{n-1}},$$\n",
    "Thus, Secant method is:\n",
    "$$\\sigma_{n+1}=\\sigma_{n}-f(\\sigma_{n})\\cdot \\frac{\\sigma_n-\\sigma_{n-1}}{f(\\sigma_n)-f(\\sigma_{n-1})}$$.\n",
    "We will need two initial guesses $\\sigma_0, \\sigma_1$ instead of one like in Newton's method."
   ]
  },
  {
   "cell_type": "markdown",
   "id": "2eb21cac",
   "metadata": {},
   "source": [
    "## Numerical Examples\n",
    "\n",
    "We consider a call option with the following parameters: $S = R40, K=35, r=0.08, T=1, P_{mkt}=10$"
   ]
  },
  {
   "cell_type": "code",
   "execution_count": 94,
   "id": "7329782a",
   "metadata": {},
   "outputs": [],
   "source": [
    "import numpy as np\n",
    "from scipy.stats import norm\n",
    "\n",
    "class SecantMethod:\n",
    "    def __init__(self, D, S, K, r, T, market_price):\n",
    "        # D is the interval for which we are searching for the roots\n",
    "        self.D = D\n",
    "        self.S = S  # Underlying asset price\n",
    "        self.K = K  # Strike price\n",
    "        self.r = r  # Risk-free interest rate\n",
    "        self.T = T  # Time to maturity\n",
    "        self.market_price = market_price  # Market price of the option\n",
    "\n",
    "    def bsm_call_price(self, sigma):\n",
    "        d1 = (np.log(self.S / self.K) + (self.r + 0.5 * sigma**2) * self.T) / (sigma * np.sqrt(self.T))\n",
    "        d2 = d1 - sigma * np.sqrt(self.T)\n",
    "        return self.S * norm.cdf(d1) - self.K * np.exp(-self.r * self.T) * norm.cdf(d2)\n",
    "\n",
    "    def f(self, sigma): return self.bsm_call_price(sigma) - self.market_price\n",
    "\n",
    "    def secant_root(self, x0, x1, n_iter=100, tol=1e-6):\n",
    "        a, b = self.D  # The interval for which we are searching for the roots\n",
    "        \n",
    "        # Check if initial guesses are within bounds\n",
    "        if x0 < a or x0 > b or x1 < a or x1 > b:\n",
    "            raise ValueError(\"Initial guesses must be within the interval [a, b]\")\n",
    "\n",
    "        for i in range(n_iter):\n",
    "            f_x0 = self.f(x0)\n",
    "            f_x1 = self.f(x1)\n",
    "            \n",
    "            # Check if the difference between f(x1) and f(x0) is too small to avoid division by zero\n",
    "            if abs(f_x1 - f_x0) < tol:\n",
    "                raise ZeroDivisionError(f\"f(x0) and f(x1) too close at iteration {i}.\")\n",
    "            \n",
    "            # Update step\n",
    "            x_next = x1 - f_x1 * (x1 - x0) / (f_x1 - f_x0)\n",
    "            \n",
    "            # Make sure x_next stays within the interval [a, b]\n",
    "            if x_next < a:\n",
    "                x_next = a\n",
    "            elif x_next > b:\n",
    "                x_next = b\n",
    "            \n",
    "            # Check for convergence\n",
    "            if abs(self.f(x_next)) < tol:\n",
    "                return x_next\n",
    "            \n",
    "            # Update for the next iteration\n",
    "            x0, x1 = x1, x_next  # Shift x0 to x1, and x1 to x_next\n",
    "\n",
    "        raise ValueError(\"Secant method did not converge\")"
   ]
  },
  {
   "cell_type": "code",
   "execution_count": 95,
   "id": "fd28f1de",
   "metadata": {},
   "outputs": [],
   "source": [
    "D = [0.01, 1.0]  # Volatility range\n",
    "S = 40  # Underlying asset price\n",
    "K = 35  # Strike price\n",
    "r = 0.08  # Risk-free interest rate\n",
    "T = 1  # Time to maturity\n",
    "market_price = 10  # Market price of the call option"
   ]
  },
  {
   "cell_type": "code",
   "execution_count": 97,
   "id": "67a6fe9c",
   "metadata": {},
   "outputs": [
    {
     "name": "stdout",
     "output_type": "stream",
     "text": [
      "Implied Volatility: 0.37016162078834\n"
     ]
    }
   ],
   "source": [
    "# Create an instance of the SecantMethod class\n",
    "secant = SecantMethod(D, S, K, r, T, market_price)\n",
    "\n",
    "# Use two initial guesses\n",
    "x0 = 0.1\n",
    "x1 = 0.2\n",
    "\n",
    "# Find the implied volatility using the Secant Method\n",
    "implied_vol = secant.secant_root(x0, x1)\n",
    "print(f\"Implied Volatility: {implied_vol}\")"
   ]
  },
  {
   "cell_type": "code",
   "execution_count": null,
   "id": "da9c0afc",
   "metadata": {},
   "outputs": [],
   "source": []
  }
 ],
 "metadata": {
  "kernelspec": {
   "display_name": "Python 3 (ipykernel)",
   "language": "python",
   "name": "python3"
  },
  "language_info": {
   "codemirror_mode": {
    "name": "ipython",
    "version": 3
   },
   "file_extension": ".py",
   "mimetype": "text/x-python",
   "name": "python",
   "nbconvert_exporter": "python",
   "pygments_lexer": "ipython3",
   "version": "3.9.13"
  }
 },
 "nbformat": 4,
 "nbformat_minor": 5
}
